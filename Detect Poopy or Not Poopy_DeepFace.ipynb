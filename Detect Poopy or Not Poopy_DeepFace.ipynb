{
 "cells": [
  {
   "cell_type": "code",
   "execution_count": 1,
   "metadata": {},
   "outputs": [
    {
     "ename": "ModuleNotFoundError",
     "evalue": "No module named 'deepface'",
     "output_type": "error",
     "traceback": [
      "\u001b[1;31m---------------------------------------------------------------------------\u001b[0m",
      "\u001b[1;31mModuleNotFoundError\u001b[0m                       Traceback (most recent call last)",
      "Cell \u001b[1;32mIn[1], line 2\u001b[0m\n\u001b[0;32m      1\u001b[0m \u001b[38;5;28;01mimport\u001b[39;00m \u001b[38;5;21;01mstreamlit\u001b[39;00m \u001b[38;5;28;01mas\u001b[39;00m \u001b[38;5;21;01mst\u001b[39;00m\n\u001b[1;32m----> 2\u001b[0m \u001b[38;5;28;01mimport\u001b[39;00m \u001b[38;5;21;01mdeepface\u001b[39;00m\n\u001b[0;32m      3\u001b[0m \u001b[38;5;28;01mimport\u001b[39;00m \u001b[38;5;21;01mnumpy\u001b[39;00m \u001b[38;5;28;01mas\u001b[39;00m \u001b[38;5;21;01mnp\u001b[39;00m\n\u001b[0;32m      4\u001b[0m \u001b[38;5;28;01mfrom\u001b[39;00m \u001b[38;5;21;01mPIL\u001b[39;00m \u001b[38;5;28;01mimport\u001b[39;00m Image\n",
      "\u001b[1;31mModuleNotFoundError\u001b[0m: No module named 'deepface'"
     ]
    }
   ],
   "source": [
    "import streamlit as st\n",
    "import deepface\n",
    "import numpy as np\n",
    "from PIL import Image\n",
    "import scipy\n",
    "import cv2\n",
    "\n",
    "print(\"Streamlit version:\", st.__version__)\n",
    "print(\"DeepFace version:\", deepface.__version__)\n",
    "print(\"NumPy version:\", np.__version__)\n",
    "print(\"Pillow version:\", Image.__version__)\n",
    "print(\"SciPy version:\", scipy.__version__)\n",
    "print(cv2.__version__)\n",
    "\n",
    "\n",
    "import keras\n",
    "import retinaface\n",
    "import deepface\n",
    "\n",
    "print(\"Keras version:\", keras.__version__)\n",
    "print(\"RetinaFace version:\", retinaface.__version__)\n",
    "print(\"DeepFace version:\", deepface.__version__)\n"
   ]
  },
  {
   "cell_type": "code",
   "execution_count": 2,
   "metadata": {},
   "outputs": [
    {
     "ename": "ModuleNotFoundError",
     "evalue": "No module named 'deepface'",
     "output_type": "error",
     "traceback": [
      "\u001b[1;31m---------------------------------------------------------------------------\u001b[0m",
      "\u001b[1;31mModuleNotFoundError\u001b[0m                       Traceback (most recent call last)",
      "Cell \u001b[1;32mIn[2], line 4\u001b[0m\n\u001b[0;32m      2\u001b[0m \u001b[38;5;28;01mimport\u001b[39;00m \u001b[38;5;21;01mpickle\u001b[39;00m\n\u001b[0;32m      3\u001b[0m \u001b[38;5;28;01mimport\u001b[39;00m \u001b[38;5;21;01mnumpy\u001b[39;00m \u001b[38;5;28;01mas\u001b[39;00m \u001b[38;5;21;01mnp\u001b[39;00m\n\u001b[1;32m----> 4\u001b[0m \u001b[38;5;28;01mfrom\u001b[39;00m \u001b[38;5;21;01mdeepface\u001b[39;00m \u001b[38;5;28;01mimport\u001b[39;00m DeepFace\n\u001b[0;32m      5\u001b[0m \u001b[38;5;28;01mfrom\u001b[39;00m \u001b[38;5;21;01mPIL\u001b[39;00m \u001b[38;5;28;01mimport\u001b[39;00m Image\n",
      "\u001b[1;31mModuleNotFoundError\u001b[0m: No module named 'deepface'"
     ]
    }
   ],
   "source": [
    "import os\n",
    "import pickle\n",
    "import numpy as np\n",
    "from deepface import DeepFace\n",
    "from PIL import Image\n"
   ]
  },
  {
   "cell_type": "code",
   "execution_count": null,
   "metadata": {},
   "outputs": [],
   "source": [
    "\n",
    "def preprocess_image(image_path):\n",
    "    \"\"\"\n",
    "    Preprocess the image to ensure it has consistent dimensions and format.\n",
    "    Args:\n",
    "    - image_path (str): Path to the image file.\n",
    "\n",
    "    Returns:\n",
    "    - preprocessed_image (np.array): Resized and normalized image.\n",
    "    \"\"\"\n",
    "    image = Image.open(image_path).convert('RGB')\n",
    "    image = image.resize((224, 224))  # Resize to 224x224 pixels\n",
    "    return np.array(image)\n",
    "\n",
    "def create_embeddings_for_dataset(dataset_path, save_path):\n",
    "    \"\"\"\n",
    "    Create and save face embeddings for each person in the dataset.\n",
    "    Args:\n",
    "    - dataset_path (str): Path to the dataset directory.\n",
    "    - save_path (str): Path to save the embeddings.\n",
    "    \"\"\"\n",
    "    embeddings_dict = {}\n",
    "    \n",
    "    # Iterate through each folder (person)\n",
    "    for person_name in os.listdir(dataset_path):\n",
    "        person_folder = os.path.join(dataset_path, person_name)\n",
    "        \n",
    "        if os.path.isdir(person_folder):\n",
    "            embeddings_dict[person_name] = []\n",
    "            \n",
    "            # Iterate through each image in the person's folder\n",
    "            for image_name in os.listdir(person_folder):\n",
    "                image_path = os.path.join(person_folder, image_name)\n",
    "                \n",
    "                # Preprocess and get face embedding\n",
    "                preprocessed_image = preprocess_image(image_path)\n",
    "                temp_image_path = \"temp_preprocessed.jpg\"\n",
    "                Image.fromarray(preprocessed_image).save(temp_image_path)\n",
    "                \n",
    "                result = DeepFace.represent(img_path=temp_image_path, model_name='VGG-Face', enforce_detection=False)\n",
    "                if result:\n",
    "                    embeddings = np.array(result[0]['embedding'])\n",
    "                    embeddings_dict[person_name].append(np.array(embeddings))\n",
    "                \n",
    "                os.remove(temp_image_path)  # Remove the temporary file\n",
    "    \n",
    "    # Save the embeddings dictionary to a file\n",
    "    with open(save_path, 'wb') as f:\n",
    "        pickle.dump(embeddings_dict, f)\n",
    "    print(f\"Embeddings saved to {save_path}\")\n",
    "\n",
    "# Define paths\n",
    "dataset_path = 'E:/GitHub-rzn/Poopy-or-Not-Poopy/Dataset/'\n",
    "save_path = 'E:/GitHub-rzn/Poopy-or-Not-Poopy/DeepFace_lib/model/poopy-not-poopy.pkl'\n",
    "\n",
    "# Create and save embeddings\n",
    "create_embeddings_for_dataset(dataset_path, save_path)\n"
   ]
  }
 ],
 "metadata": {
  "kernelspec": {
   "display_name": "Python 3",
   "language": "python",
   "name": "python3"
  },
  "language_info": {
   "codemirror_mode": {
    "name": "ipython",
    "version": 3
   },
   "file_extension": ".py",
   "mimetype": "text/x-python",
   "name": "python",
   "nbconvert_exporter": "python",
   "pygments_lexer": "ipython3",
   "version": "3.12.7"
  }
 },
 "nbformat": 4,
 "nbformat_minor": 2
}
